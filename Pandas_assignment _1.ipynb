{
 "cells": [
  {
   "cell_type": "code",
   "execution_count": 7,
   "id": "79cff6d2",
   "metadata": {},
   "outputs": [],
   "source": [
    "import numpy as np\n",
    "import pandas as pd"
   ]
  },
  {
   "cell_type": "code",
   "execution_count": 8,
   "id": "9b899726",
   "metadata": {},
   "outputs": [],
   "source": [
    "df = pd.read_csv(r\"C:\\Users\\vinay\\Downloads\\cleaned_all_phones.csv\", parse_dates = [\"announcement_date\"], dayfirst = True,)"
   ]
  },
  {
   "cell_type": "code",
   "execution_count": 9,
   "id": "8ff0b2f8",
   "metadata": {},
   "outputs": [
    {
     "name": "stdout",
     "output_type": "stream",
     "text": [
      "<class 'pandas.core.frame.DataFrame'>\n",
      "RangeIndex: 1512 entries, 0 to 1511\n",
      "Data columns (total 22 columns):\n",
      " #   Column             Non-Null Count  Dtype         \n",
      "---  ------             --------------  -----         \n",
      " 0   phone_name         1512 non-null   object        \n",
      " 1   brand              1512 non-null   object        \n",
      " 2   os                 1512 non-null   object        \n",
      " 3   inches             1512 non-null   float64       \n",
      " 4   resolution         1512 non-null   object        \n",
      " 5   battery            1512 non-null   int64         \n",
      " 6   battery_type       1512 non-null   object        \n",
      " 7   ram(GB)            1512 non-null   int64         \n",
      " 8   announcement_date  1512 non-null   datetime64[ns]\n",
      " 9   weight(g)          1512 non-null   float64       \n",
      " 10  storage(GB)        1512 non-null   int64         \n",
      " 11  video_720p         1512 non-null   bool          \n",
      " 12  video_1080p        1512 non-null   bool          \n",
      " 13  video_4K           1512 non-null   bool          \n",
      " 14  video_8K           1512 non-null   bool          \n",
      " 15  video_30fps        1512 non-null   bool          \n",
      " 16  video_60fps        1512 non-null   bool          \n",
      " 17  video_120fps       1512 non-null   bool          \n",
      " 18  video_240fps       1512 non-null   bool          \n",
      " 19  video_480fps       1512 non-null   bool          \n",
      " 20  video_960fps       1512 non-null   bool          \n",
      " 21  price(USD)         1512 non-null   float64       \n",
      "dtypes: bool(10), datetime64[ns](1), float64(3), int64(3), object(5)\n",
      "memory usage: 156.6+ KB\n"
     ]
    }
   ],
   "source": [
    "df.info()"
   ]
  },
  {
   "cell_type": "markdown",
   "id": "1366881a-4215-418b-ae90-86853a06e1fa",
   "metadata": {},
   "source": [
    "#### 1-How many unique brands are there in the given data?"
   ]
  },
  {
   "cell_type": "code",
   "execution_count": 11,
   "id": "38a51ff0",
   "metadata": {},
   "outputs": [
    {
     "data": {
      "text/plain": [
       "13"
      ]
     },
     "execution_count": 11,
     "metadata": {},
     "output_type": "execute_result"
    }
   ],
   "source": [
    "ub = df[\"brand\"].nunique()\n",
    "ub"
   ]
  },
  {
   "cell_type": "markdown",
   "id": "34f40c0a-ea73-4156-8992-342f48147198",
   "metadata": {},
   "source": [
    "#### 2-What is the average ram size of all the collected data\n"
   ]
  },
  {
   "cell_type": "code",
   "execution_count": 20,
   "id": "c008d28a",
   "metadata": {},
   "outputs": [
    {
     "name": "stdout",
     "output_type": "stream",
     "text": [
      "The average ram size of all the collected data is 6.6838624338624335\n"
     ]
    }
   ],
   "source": [
    "total_ram_size = df[\"ram(GB)\"].mean()\n",
    "print(\"The average ram size of all the collected data is\",total_ram_size)"
   ]
  },
  {
   "cell_type": "markdown",
   "id": "f1117b0f-255e-4b05-8375-32a42752dd55",
   "metadata": {},
   "source": [
    "#### 3-Which phone is having the maximum and minimum battery capacity"
   ]
  },
  {
   "cell_type": "code",
   "execution_count": 13,
   "id": "1051bed2",
   "metadata": {},
   "outputs": [
    {
     "name": "stdout",
     "output_type": "stream",
     "text": [
      "The Max battery phone among all is V6\n",
      "\n",
      "The min battery phone among all is iPhone 8\n"
     ]
    }
   ],
   "source": [
    "#Which phone is having the maximum and minimum battery capacity?\n",
    "\n",
    "max_bat = df.at[df[\"battery\"].idxmax(), \"phone_name\"]\n",
    "print(\"The Max battery phone among all is\", max_bat)\n",
    "\n",
    "print()       \n",
    "\n",
    "min_bat = df.at[df[\"battery\"].idxmin(), \"phone_name\"]\n",
    "print(\"The min battery phone among all is\", min_bat)"
   ]
  },
  {
   "cell_type": "markdown",
   "id": "e7ef09a8-bd6a-4ef9-a610-ea68d30318e7",
   "metadata": {},
   "source": [
    "#### 4-What is the maximum battery capacity provided by Hauwei company?"
   ]
  },
  {
   "cell_type": "code",
   "execution_count": 77,
   "id": "80042b32",
   "metadata": {},
   "outputs": [
    {
     "name": "stdout",
     "output_type": "stream",
     "text": [
      "The maximum battery capacity provided by huawei is 7000\n"
     ]
    }
   ],
   "source": [
    "grouped_df = df.groupby(\"brand\")\n",
    "sub_grouped = grouped_df.get_group(\"Huawei\")\n",
    "max_grouped = sub_grouped[\"battery\"].max()\n",
    "print(\"The maximum battery capacity provided by huawei is\", max_grouped)"
   ]
  },
  {
   "cell_type": "markdown",
   "id": "416cf29d-efb3-49f4-b571-507025ee82c2",
   "metadata": {},
   "source": [
    "#### 4-Which phone brand is providing the highest and lowest ram?"
   ]
  },
  {
   "cell_type": "code",
   "execution_count": 17,
   "id": "b6950d62",
   "metadata": {},
   "outputs": [
    {
     "name": "stdout",
     "output_type": "stream",
     "text": [
      "The highest ram provding phone brand is Xiaomi\n",
      "The lowest ram providing phone brand is Huawei\n"
     ]
    }
   ],
   "source": [
    "max_ram = df.at[df[\"ram(GB)\"].idxmax(), \"brand\"]\n",
    "print(\"The highest ram provding phone brand is\", max_ram)\n",
    "min_ram = df.at[df[\"ram(GB)\"].idxmin(), \"brand\"]\n",
    "print(\"The lowest ram providing phone brand is\", min_ram)"
   ]
  },
  {
   "cell_type": "markdown",
   "id": "41dfd1b2-aa62-4e5f-b790-74ad1410104d",
   "metadata": {},
   "source": [
    "#### 5-How many phones has android 7.0 as there operating system?"
   ]
  },
  {
   "cell_type": "code",
   "execution_count": 178,
   "id": "b18c45fc",
   "metadata": {},
   "outputs": [
    {
     "name": "stdout",
     "output_type": "stream",
     "text": [
      "The number of phoes that has android 7.0 is 33\n"
     ]
    }
   ],
   "source": [
    "operating_system = df[df[\"os\"] == \"Android 7.0\"]\n",
    "print(\"The number of phoes that has android 7.0 is\", len(operating_system))"
   ]
  },
  {
   "cell_type": "markdown",
   "id": "13201a93-86d6-4193-8272-41be667c664a",
   "metadata": {},
   "source": [
    "#### 6-Which phone is the oldest among all the phones?\n"
   ]
  },
  {
   "cell_type": "code",
   "execution_count": 119,
   "id": "598bb0d8",
   "metadata": {},
   "outputs": [
    {
     "name": "stdout",
     "output_type": "stream",
     "text": [
      "The oldest phone among all the phones is Y6II Compact\n"
     ]
    }
   ],
   "source": [
    "old_phone = df.at[df[\"announcement_date\"].idxmin(), \"phone_name\"]\n",
    "print(\"The oldest phone among all the phones is\", old_phone)"
   ]
  },
  {
   "cell_type": "markdown",
   "id": "1517f2ef-96ec-4eca-b70f-9f532712a430",
   "metadata": {},
   "source": [
    "#### 7-which brand produced the maximum number of phone in the given data?\n"
   ]
  },
  {
   "cell_type": "code",
   "execution_count": 180,
   "id": "f81db5ac",
   "metadata": {},
   "outputs": [
    {
     "name": "stdout",
     "output_type": "stream",
     "text": [
      "The **Xiaomi** brand produced the maximum number of phones in the given data\n"
     ]
    }
   ],
   "source": [
    "df[\"brand\"].value_counts()\n",
    "print(\"The **Xiaomi** brand produced the maximum number of phones in the given data\")"
   ]
  },
  {
   "cell_type": "markdown",
   "id": "4793844a-7101-4ecf-b7c6-0b0273a7ab9b",
   "metadata": {},
   "source": [
    "#### 8-Give the count of phones supporting 4k video?\n"
   ]
  },
  {
   "cell_type": "code",
   "execution_count": 145,
   "id": "0c4d737a",
   "metadata": {},
   "outputs": [
    {
     "name": "stdout",
     "output_type": "stream",
     "text": [
      "The count of phones supporting 4K video is 801\n"
     ]
    }
   ],
   "source": [
    "#Give the count of phones supporting 4k video?\n",
    "\n",
    "df[\"video_4K\"].value_counts()\n",
    "print(\"The count of phones supporting 4K video is 801\")"
   ]
  },
  {
   "cell_type": "markdown",
   "id": "17f986e0-1bb9-42f5-a431-a50d1f67c795",
   "metadata": {},
   "source": [
    "#### 9-Give the count of phone supporting 8k video?\n"
   ]
  },
  {
   "cell_type": "code",
   "execution_count": 147,
   "id": "29c6c7e9",
   "metadata": {},
   "outputs": [
    {
     "name": "stdout",
     "output_type": "stream",
     "text": [
      "The count of phones supporting 8k video is 1426\n"
     ]
    }
   ],
   "source": [
    "df[\"video_8K\"].value_counts()\n",
    "print(\"The count of phones supporting 8k video is 1426\")"
   ]
  },
  {
   "cell_type": "markdown",
   "id": "a4d80787-3c49-45a5-9344-797b74177f1d",
   "metadata": {},
   "source": [
    "#### 10-Give the count of phone supporting 2k video?\n"
   ]
  },
  {
   "cell_type": "code",
   "execution_count": 150,
   "id": "58667e46",
   "metadata": {},
   "outputs": [
    {
     "name": "stdout",
     "output_type": "stream",
     "text": [
      "The number of phones supporting 2k video is 1503\n"
     ]
    }
   ],
   "source": [
    "df[\"video_1080p\"].value_counts()\n",
    "print(\"The number of phones supporting 2k video is 1503\")"
   ]
  },
  {
   "cell_type": "markdown",
   "id": "a75bf67c-81a4-4e16-9673-98d481ac7bf4",
   "metadata": {},
   "source": [
    "#### 11-How many phones supports Li-Po and Li-ion Battery?\n"
   ]
  },
  {
   "cell_type": "code",
   "execution_count": 201,
   "id": "d9ad374f",
   "metadata": {},
   "outputs": [
    {
     "name": "stdout",
     "output_type": "stream",
     "text": [
      "The number of phones supports Li-Po and Li-ion Battery are 1512\n"
     ]
    }
   ],
   "source": [
    "battery_phones = df[(df[\"battery_type\"] == \"Li-Po\") | (df[\"battery_type\"] == \"Li-Ion\")]\n",
    "print(\"The number of phones supports Li-Po and Li-ion Battery are\", len(battery_phones))"
   ]
  },
  {
   "cell_type": "markdown",
   "id": "dd9150a7-ac06-4570-9828-5eeb1cb6c973",
   "metadata": {},
   "source": [
    "#### 12-How many sony phone supports 720X1280 resolution?\n"
   ]
  },
  {
   "cell_type": "code",
   "execution_count": 218,
   "id": "684f0a1e",
   "metadata": {},
   "outputs": [
    {
     "name": "stdout",
     "output_type": "stream",
     "text": [
      "There are 5 sony phones that support 720x1280 resolution\n"
     ]
    }
   ],
   "source": [
    "gouped_df = df.groupby(\"brand\")\n",
    "sony_phones = grouped_df.get_group(\"Sony\")\n",
    "resolutioned_phones = sony_phones[sony_phones[\"resolution\"] == \"720x1280\"]\n",
    "print(\"There are\", len(resolutioned_phones), \"sony phones that support 720x1280 resolution\")"
   ]
  },
  {
   "cell_type": "markdown",
   "id": "484fbcd9-22a2-4892-9345-0146d0ed7520",
   "metadata": {},
   "source": [
    "#### 13-pivot table for finding the average weights ,total weights,based on brand and battery type?\n"
   ]
  },
  {
   "cell_type": "code",
   "execution_count": 16,
   "id": "07f2be2d",
   "metadata": {},
   "outputs": [
    {
     "data": {
      "text/html": [
       "<div>\n",
       "<style scoped>\n",
       "    .dataframe tbody tr th:only-of-type {\n",
       "        vertical-align: middle;\n",
       "    }\n",
       "\n",
       "    .dataframe tbody tr th {\n",
       "        vertical-align: top;\n",
       "    }\n",
       "\n",
       "    .dataframe thead tr th {\n",
       "        text-align: left;\n",
       "    }\n",
       "\n",
       "    .dataframe thead tr:last-of-type th {\n",
       "        text-align: right;\n",
       "    }\n",
       "</style>\n",
       "<table border=\"1\" class=\"dataframe\">\n",
       "  <thead>\n",
       "    <tr>\n",
       "      <th></th>\n",
       "      <th colspan=\"2\" halign=\"left\">sum</th>\n",
       "      <th colspan=\"2\" halign=\"left\">mean</th>\n",
       "    </tr>\n",
       "    <tr>\n",
       "      <th></th>\n",
       "      <th colspan=\"2\" halign=\"left\">weight(g)</th>\n",
       "      <th colspan=\"2\" halign=\"left\">weight(g)</th>\n",
       "    </tr>\n",
       "    <tr>\n",
       "      <th>battery_type</th>\n",
       "      <th>Li-Ion</th>\n",
       "      <th>Li-Po</th>\n",
       "      <th>Li-Ion</th>\n",
       "      <th>Li-Po</th>\n",
       "    </tr>\n",
       "    <tr>\n",
       "      <th>brand</th>\n",
       "      <th></th>\n",
       "      <th></th>\n",
       "      <th></th>\n",
       "      <th></th>\n",
       "    </tr>\n",
       "  </thead>\n",
       "  <tbody>\n",
       "    <tr>\n",
       "      <th>Apple</th>\n",
       "      <td>4097.0</td>\n",
       "      <td>NaN</td>\n",
       "      <td>186.227273</td>\n",
       "      <td>NaN</td>\n",
       "    </tr>\n",
       "    <tr>\n",
       "      <th>Google</th>\n",
       "      <td>1144.0</td>\n",
       "      <td>2300.0</td>\n",
       "      <td>190.666667</td>\n",
       "      <td>176.923077</td>\n",
       "    </tr>\n",
       "    <tr>\n",
       "      <th>Honor</th>\n",
       "      <td>496.0</td>\n",
       "      <td>23064.0</td>\n",
       "      <td>165.333333</td>\n",
       "      <td>190.611570</td>\n",
       "    </tr>\n",
       "    <tr>\n",
       "      <th>Huawei</th>\n",
       "      <td>4909.0</td>\n",
       "      <td>19881.0</td>\n",
       "      <td>158.354839</td>\n",
       "      <td>187.556604</td>\n",
       "    </tr>\n",
       "    <tr>\n",
       "      <th>LG</th>\n",
       "      <td>4181.0</td>\n",
       "      <td>8823.0</td>\n",
       "      <td>154.851852</td>\n",
       "      <td>183.812500</td>\n",
       "    </tr>\n",
       "    <tr>\n",
       "      <th>Lenovo</th>\n",
       "      <td>2662.0</td>\n",
       "      <td>6339.0</td>\n",
       "      <td>190.142857</td>\n",
       "      <td>218.586207</td>\n",
       "    </tr>\n",
       "    <tr>\n",
       "      <th>OnePlus</th>\n",
       "      <td>NaN</td>\n",
       "      <td>9003.0</td>\n",
       "      <td>NaN</td>\n",
       "      <td>191.553191</td>\n",
       "    </tr>\n",
       "    <tr>\n",
       "      <th>Oppo</th>\n",
       "      <td>3788.0</td>\n",
       "      <td>34620.0</td>\n",
       "      <td>157.833333</td>\n",
       "      <td>183.174603</td>\n",
       "    </tr>\n",
       "    <tr>\n",
       "      <th>Realme</th>\n",
       "      <td>1001.0</td>\n",
       "      <td>28643.0</td>\n",
       "      <td>166.833333</td>\n",
       "      <td>189.688742</td>\n",
       "    </tr>\n",
       "    <tr>\n",
       "      <th>Samsung</th>\n",
       "      <td>17139.0</td>\n",
       "      <td>21640.0</td>\n",
       "      <td>178.531250</td>\n",
       "      <td>196.727273</td>\n",
       "    </tr>\n",
       "    <tr>\n",
       "      <th>Sony</th>\n",
       "      <td>4256.0</td>\n",
       "      <td>2324.0</td>\n",
       "      <td>177.333333</td>\n",
       "      <td>178.769231</td>\n",
       "    </tr>\n",
       "    <tr>\n",
       "      <th>Vivo</th>\n",
       "      <td>NaN</td>\n",
       "      <td>31959.0</td>\n",
       "      <td>NaN</td>\n",
       "      <td>190.232143</td>\n",
       "    </tr>\n",
       "    <tr>\n",
       "      <th>Xiaomi</th>\n",
       "      <td>3048.0</td>\n",
       "      <td>48389.0</td>\n",
       "      <td>179.294118</td>\n",
       "      <td>195.906883</td>\n",
       "    </tr>\n",
       "  </tbody>\n",
       "</table>\n",
       "</div>"
      ],
      "text/plain": [
       "                   sum                 mean            \n",
       "             weight(g)            weight(g)            \n",
       "battery_type    Li-Ion    Li-Po      Li-Ion       Li-Po\n",
       "brand                                                  \n",
       "Apple           4097.0      NaN  186.227273         NaN\n",
       "Google          1144.0   2300.0  190.666667  176.923077\n",
       "Honor            496.0  23064.0  165.333333  190.611570\n",
       "Huawei          4909.0  19881.0  158.354839  187.556604\n",
       "LG              4181.0   8823.0  154.851852  183.812500\n",
       "Lenovo          2662.0   6339.0  190.142857  218.586207\n",
       "OnePlus            NaN   9003.0         NaN  191.553191\n",
       "Oppo            3788.0  34620.0  157.833333  183.174603\n",
       "Realme          1001.0  28643.0  166.833333  189.688742\n",
       "Samsung        17139.0  21640.0  178.531250  196.727273\n",
       "Sony            4256.0   2324.0  177.333333  178.769231\n",
       "Vivo               NaN  31959.0         NaN  190.232143\n",
       "Xiaomi          3048.0  48389.0  179.294118  195.906883"
      ]
     },
     "execution_count": 16,
     "metadata": {},
     "output_type": "execute_result"
    }
   ],
   "source": [
    "df.pivot_table(index = [\"brand\"],columns = [\"battery_type\"], values = [\"weight(g)\"], aggfunc = [\"sum\",\"mean\"])"
   ]
  },
  {
   "cell_type": "code",
   "execution_count": null,
   "id": "d59a192d",
   "metadata": {},
   "outputs": [],
   "source": []
  }
 ],
 "metadata": {
  "kernelspec": {
   "display_name": "Python 3 (ipykernel)",
   "language": "python",
   "name": "python3"
  },
  "language_info": {
   "codemirror_mode": {
    "name": "ipython",
    "version": 3
   },
   "file_extension": ".py",
   "mimetype": "text/x-python",
   "name": "python",
   "nbconvert_exporter": "python",
   "pygments_lexer": "ipython3",
   "version": "3.11.4"
  }
 },
 "nbformat": 4,
 "nbformat_minor": 5
}
