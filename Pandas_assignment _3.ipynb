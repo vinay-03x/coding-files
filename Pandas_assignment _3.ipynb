{
 "cells": [
  {
   "cell_type": "code",
   "execution_count": 2,
   "id": "b375a451",
   "metadata": {},
   "outputs": [],
   "source": [
    "import numpy as np\n",
    "import pandas as pd"
   ]
  },
  {
   "cell_type": "code",
   "execution_count": 5,
   "id": "b5818ed6",
   "metadata": {},
   "outputs": [],
   "source": [
    "df = pd.read_csv(r\"C:\\Users\\vinay\\Downloads\\all_grains_data.csv\", parse_dates = [\"date\"], dayfirst = True)"
   ]
  },
  {
   "cell_type": "code",
   "execution_count": 4,
   "id": "728494af",
   "metadata": {},
   "outputs": [
    {
     "name": "stdout",
     "output_type": "stream",
     "text": [
      "<class 'pandas.core.frame.DataFrame'>\n",
      "RangeIndex: 34883 entries, 0 to 34882\n",
      "Data columns (total 8 columns):\n",
      " #   Column     Non-Null Count  Dtype         \n",
      "---  ------     --------------  -----         \n",
      " 0   ticker     34883 non-null  object        \n",
      " 1   commodity  34883 non-null  object        \n",
      " 2   date       34883 non-null  datetime64[ns]\n",
      " 3   open       34883 non-null  float64       \n",
      " 4   high       34883 non-null  float64       \n",
      " 5   low        34883 non-null  float64       \n",
      " 6   close      34883 non-null  float64       \n",
      " 7   volume     34883 non-null  int64         \n",
      "dtypes: datetime64[ns](1), float64(4), int64(1), object(2)\n",
      "memory usage: 2.1+ MB\n"
     ]
    }
   ],
   "source": [
    "df.info()"
   ]
  },
  {
   "cell_type": "markdown",
   "id": "8c9e09d5",
   "metadata": {},
   "source": [
    "Which commodity was having the highest opening price for the day?"
   ]
  },
  {
   "cell_type": "code",
   "execution_count": 93,
   "id": "b99bfd9f",
   "metadata": {},
   "outputs": [
    {
     "name": "stdout",
     "output_type": "stream",
     "text": [
      "The commodity which has highest opening price for the day is Rough Rice\n"
     ]
    }
   ],
   "source": [
    "highest_opening = df.at[df[\"open\"].idxmax(), \"commodity\"]\n",
    "print(\"The commodity which has highest opening price for the day is\", highest_opening)"
   ]
  },
  {
   "cell_type": "markdown",
   "id": "a6c1f58f",
   "metadata": {},
   "source": [
    "Which commodity price reached maximum during the trading session?"
   ]
  },
  {
   "cell_type": "code",
   "execution_count": 6,
   "id": "fd01fda1-7ec0-4372-8c9c-544bff40ee51",
   "metadata": {},
   "outputs": [
    {
     "data": {
      "text/html": [
       "<div>\n",
       "<style scoped>\n",
       "    .dataframe tbody tr th:only-of-type {\n",
       "        vertical-align: middle;\n",
       "    }\n",
       "\n",
       "    .dataframe tbody tr th {\n",
       "        vertical-align: top;\n",
       "    }\n",
       "\n",
       "    .dataframe thead th {\n",
       "        text-align: right;\n",
       "    }\n",
       "</style>\n",
       "<table border=\"1\" class=\"dataframe\">\n",
       "  <thead>\n",
       "    <tr style=\"text-align: right;\">\n",
       "      <th></th>\n",
       "      <th>ticker</th>\n",
       "      <th>date</th>\n",
       "      <th>open</th>\n",
       "      <th>high</th>\n",
       "      <th>low</th>\n",
       "      <th>close</th>\n",
       "      <th>volume</th>\n",
       "    </tr>\n",
       "    <tr>\n",
       "      <th>commodity</th>\n",
       "      <th></th>\n",
       "      <th></th>\n",
       "      <th></th>\n",
       "      <th></th>\n",
       "      <th></th>\n",
       "      <th></th>\n",
       "      <th></th>\n",
       "    </tr>\n",
       "  </thead>\n",
       "  <tbody>\n",
       "    <tr>\n",
       "      <th>Rough Rice</th>\n",
       "      <td>ZR=F</td>\n",
       "      <td>2023-09-15</td>\n",
       "      <td>2435.00</td>\n",
       "      <td>2468.500000</td>\n",
       "      <td>2400.000000</td>\n",
       "      <td>2446.000000</td>\n",
       "      <td>4321</td>\n",
       "    </tr>\n",
       "    <tr>\n",
       "      <th>Soybean</th>\n",
       "      <td>ZS=F</td>\n",
       "      <td>2023-09-15</td>\n",
       "      <td>1778.50</td>\n",
       "      <td>1794.750000</td>\n",
       "      <td>1760.500000</td>\n",
       "      <td>1771.000000</td>\n",
       "      <td>352462</td>\n",
       "    </tr>\n",
       "    <tr>\n",
       "      <th>KC HRW Wheat</th>\n",
       "      <td>KE=F</td>\n",
       "      <td>2023-09-15</td>\n",
       "      <td>1370.50</td>\n",
       "      <td>1384.750000</td>\n",
       "      <td>1325.000000</td>\n",
       "      <td>1367.750000</td>\n",
       "      <td>81857</td>\n",
       "    </tr>\n",
       "    <tr>\n",
       "      <th>Corn</th>\n",
       "      <td>ZC=F</td>\n",
       "      <td>2023-09-15</td>\n",
       "      <td>830.25</td>\n",
       "      <td>843.750000</td>\n",
       "      <td>822.750000</td>\n",
       "      <td>831.250000</td>\n",
       "      <td>523849</td>\n",
       "    </tr>\n",
       "    <tr>\n",
       "      <th>Oat</th>\n",
       "      <td>ZO=F</td>\n",
       "      <td>2023-09-15</td>\n",
       "      <td>803.00</td>\n",
       "      <td>811.000000</td>\n",
       "      <td>799.750000</td>\n",
       "      <td>807.000000</td>\n",
       "      <td>3935</td>\n",
       "    </tr>\n",
       "    <tr>\n",
       "      <th>Soybean Oil</th>\n",
       "      <td>ZL=F</td>\n",
       "      <td>2023-09-15</td>\n",
       "      <td>90.50</td>\n",
       "      <td>91.400002</td>\n",
       "      <td>89.099998</td>\n",
       "      <td>90.599998</td>\n",
       "      <td>128535</td>\n",
       "    </tr>\n",
       "  </tbody>\n",
       "</table>\n",
       "</div>"
      ],
      "text/plain": [
       "             ticker       date     open         high          low  \\\n",
       "commodity                                                           \n",
       "Rough Rice     ZR=F 2023-09-15  2435.00  2468.500000  2400.000000   \n",
       "Soybean        ZS=F 2023-09-15  1778.50  1794.750000  1760.500000   \n",
       "KC HRW Wheat   KE=F 2023-09-15  1370.50  1384.750000  1325.000000   \n",
       "Corn           ZC=F 2023-09-15   830.25   843.750000   822.750000   \n",
       "Oat            ZO=F 2023-09-15   803.00   811.000000   799.750000   \n",
       "Soybean Oil    ZL=F 2023-09-15    90.50    91.400002    89.099998   \n",
       "\n",
       "                    close  volume  \n",
       "commodity                          \n",
       "Rough Rice    2446.000000    4321  \n",
       "Soybean       1771.000000  352462  \n",
       "KC HRW Wheat  1367.750000   81857  \n",
       "Corn           831.250000  523849  \n",
       "Oat            807.000000    3935  \n",
       "Soybean Oil     90.599998  128535  "
      ]
     },
     "execution_count": 6,
     "metadata": {},
     "output_type": "execute_result"
    }
   ],
   "source": [
    "grouped_df = df.groupby(\"commodity\")\n",
    "grouped_df.max().sort_values(\"open\", ascending = False)\n",
    "#the \"Rough Rice\" has the maximum price reached during the trading session."
   ]
  },
  {
   "cell_type": "markdown",
   "id": "bcb2ac22",
   "metadata": {},
   "source": [
    "What is the average Market's opening price for the Oat in 2010?"
   ]
  },
  {
   "cell_type": "code",
   "execution_count": 95,
   "id": "3e31583f",
   "metadata": {
    "scrolled": true
   },
   "outputs": [
    {
     "data": {
      "text/html": [
       "<div>\n",
       "<style scoped>\n",
       "    .dataframe tbody tr th:only-of-type {\n",
       "        vertical-align: middle;\n",
       "    }\n",
       "\n",
       "    .dataframe tbody tr th {\n",
       "        vertical-align: top;\n",
       "    }\n",
       "\n",
       "    .dataframe thead th {\n",
       "        text-align: right;\n",
       "    }\n",
       "</style>\n",
       "<table border=\"1\" class=\"dataframe\">\n",
       "  <thead>\n",
       "    <tr style=\"text-align: right;\">\n",
       "      <th></th>\n",
       "      <th>ticker</th>\n",
       "      <th>commodity</th>\n",
       "      <th>date</th>\n",
       "      <th>open</th>\n",
       "      <th>high</th>\n",
       "      <th>low</th>\n",
       "      <th>close</th>\n",
       "      <th>volume</th>\n",
       "      <th>year</th>\n",
       "    </tr>\n",
       "  </thead>\n",
       "  <tbody>\n",
       "    <tr>\n",
       "      <th>0</th>\n",
       "      <td>ZC=F</td>\n",
       "      <td>Corn</td>\n",
       "      <td>2000-07-17</td>\n",
       "      <td>182.25</td>\n",
       "      <td>182.25</td>\n",
       "      <td>178.25</td>\n",
       "      <td>179.25</td>\n",
       "      <td>19385</td>\n",
       "      <td>2000</td>\n",
       "    </tr>\n",
       "    <tr>\n",
       "      <th>1</th>\n",
       "      <td>ZC=F</td>\n",
       "      <td>Corn</td>\n",
       "      <td>2000-07-18</td>\n",
       "      <td>179.00</td>\n",
       "      <td>183.25</td>\n",
       "      <td>179.00</td>\n",
       "      <td>180.75</td>\n",
       "      <td>25205</td>\n",
       "      <td>2000</td>\n",
       "    </tr>\n",
       "    <tr>\n",
       "      <th>2</th>\n",
       "      <td>ZC=F</td>\n",
       "      <td>Corn</td>\n",
       "      <td>2000-07-19</td>\n",
       "      <td>180.00</td>\n",
       "      <td>182.75</td>\n",
       "      <td>178.75</td>\n",
       "      <td>182.00</td>\n",
       "      <td>17126</td>\n",
       "      <td>2000</td>\n",
       "    </tr>\n",
       "    <tr>\n",
       "      <th>3</th>\n",
       "      <td>ZC=F</td>\n",
       "      <td>Corn</td>\n",
       "      <td>2000-07-20</td>\n",
       "      <td>181.50</td>\n",
       "      <td>187.00</td>\n",
       "      <td>181.00</td>\n",
       "      <td>186.00</td>\n",
       "      <td>18742</td>\n",
       "      <td>2000</td>\n",
       "    </tr>\n",
       "    <tr>\n",
       "      <th>4</th>\n",
       "      <td>ZC=F</td>\n",
       "      <td>Corn</td>\n",
       "      <td>2000-07-21</td>\n",
       "      <td>185.50</td>\n",
       "      <td>188.00</td>\n",
       "      <td>185.00</td>\n",
       "      <td>187.75</td>\n",
       "      <td>16814</td>\n",
       "      <td>2000</td>\n",
       "    </tr>\n",
       "    <tr>\n",
       "      <th>...</th>\n",
       "      <td>...</td>\n",
       "      <td>...</td>\n",
       "      <td>...</td>\n",
       "      <td>...</td>\n",
       "      <td>...</td>\n",
       "      <td>...</td>\n",
       "      <td>...</td>\n",
       "      <td>...</td>\n",
       "      <td>...</td>\n",
       "    </tr>\n",
       "    <tr>\n",
       "      <th>34878</th>\n",
       "      <td>ZS=F</td>\n",
       "      <td>Soybean</td>\n",
       "      <td>2023-09-11</td>\n",
       "      <td>1352.50</td>\n",
       "      <td>1352.50</td>\n",
       "      <td>1352.00</td>\n",
       "      <td>1352.50</td>\n",
       "      <td>36</td>\n",
       "      <td>2023</td>\n",
       "    </tr>\n",
       "    <tr>\n",
       "      <th>34879</th>\n",
       "      <td>ZS=F</td>\n",
       "      <td>Soybean</td>\n",
       "      <td>2023-09-12</td>\n",
       "      <td>1348.75</td>\n",
       "      <td>1348.75</td>\n",
       "      <td>1331.75</td>\n",
       "      <td>1331.75</td>\n",
       "      <td>274</td>\n",
       "      <td>2023</td>\n",
       "    </tr>\n",
       "    <tr>\n",
       "      <th>34880</th>\n",
       "      <td>ZS=F</td>\n",
       "      <td>Soybean</td>\n",
       "      <td>2023-09-13</td>\n",
       "      <td>1325.50</td>\n",
       "      <td>1336.00</td>\n",
       "      <td>1325.50</td>\n",
       "      <td>1336.00</td>\n",
       "      <td>201</td>\n",
       "      <td>2023</td>\n",
       "    </tr>\n",
       "    <tr>\n",
       "      <th>34881</th>\n",
       "      <td>ZS=F</td>\n",
       "      <td>Soybean</td>\n",
       "      <td>2023-09-14</td>\n",
       "      <td>1343.75</td>\n",
       "      <td>1343.75</td>\n",
       "      <td>1343.75</td>\n",
       "      <td>1343.75</td>\n",
       "      <td>138778</td>\n",
       "      <td>2023</td>\n",
       "    </tr>\n",
       "    <tr>\n",
       "      <th>34882</th>\n",
       "      <td>ZS=F</td>\n",
       "      <td>Soybean</td>\n",
       "      <td>2023-09-15</td>\n",
       "      <td>1360.50</td>\n",
       "      <td>1367.75</td>\n",
       "      <td>1338.25</td>\n",
       "      <td>1340.25</td>\n",
       "      <td>138778</td>\n",
       "      <td>2023</td>\n",
       "    </tr>\n",
       "  </tbody>\n",
       "</table>\n",
       "<p>34883 rows × 9 columns</p>\n",
       "</div>"
      ],
      "text/plain": [
       "      ticker commodity       date     open     high      low    close  volume  \\\n",
       "0       ZC=F      Corn 2000-07-17   182.25   182.25   178.25   179.25   19385   \n",
       "1       ZC=F      Corn 2000-07-18   179.00   183.25   179.00   180.75   25205   \n",
       "2       ZC=F      Corn 2000-07-19   180.00   182.75   178.75   182.00   17126   \n",
       "3       ZC=F      Corn 2000-07-20   181.50   187.00   181.00   186.00   18742   \n",
       "4       ZC=F      Corn 2000-07-21   185.50   188.00   185.00   187.75   16814   \n",
       "...      ...       ...        ...      ...      ...      ...      ...     ...   \n",
       "34878   ZS=F   Soybean 2023-09-11  1352.50  1352.50  1352.00  1352.50      36   \n",
       "34879   ZS=F   Soybean 2023-09-12  1348.75  1348.75  1331.75  1331.75     274   \n",
       "34880   ZS=F   Soybean 2023-09-13  1325.50  1336.00  1325.50  1336.00     201   \n",
       "34881   ZS=F   Soybean 2023-09-14  1343.75  1343.75  1343.75  1343.75  138778   \n",
       "34882   ZS=F   Soybean 2023-09-15  1360.50  1367.75  1338.25  1340.25  138778   \n",
       "\n",
       "       year  \n",
       "0      2000  \n",
       "1      2000  \n",
       "2      2000  \n",
       "3      2000  \n",
       "4      2000  \n",
       "...     ...  \n",
       "34878  2023  \n",
       "34879  2023  \n",
       "34880  2023  \n",
       "34881  2023  \n",
       "34882  2023  \n",
       "\n",
       "[34883 rows x 9 columns]"
      ]
     },
     "execution_count": 95,
     "metadata": {},
     "output_type": "execute_result"
    }
   ],
   "source": [
    "df[\"year\"] = pd.DatetimeIndex(df[\"date\"]).year\n",
    "df"
   ]
  },
  {
   "cell_type": "code",
   "execution_count": 96,
   "id": "7f23461e",
   "metadata": {},
   "outputs": [
    {
     "name": "stdout",
     "output_type": "stream",
     "text": [
      "The average Market's opening price for the oat in 2010 is 275.11607142857144\n"
     ]
    }
   ],
   "source": [
    "accessing = df.loc[df[\"commodity\"] == \"Oat\", [\"commodity\", \"open\", \"year\"]]\n",
    "conditioning = accessing[accessing[\"year\"] == 2010]\n",
    "result = conditioning[\"open\"].mean()\n",
    "print(\"The average Market's opening price for the oat in 2010 is\", result)"
   ]
  },
  {
   "cell_type": "markdown",
   "id": "c9729f67",
   "metadata": {},
   "source": [
    "What is the maximum and minimum number of contracts traded during the 2009?"
   ]
  },
  {
   "cell_type": "code",
   "execution_count": 97,
   "id": "ea79375b",
   "metadata": {},
   "outputs": [
    {
     "name": "stdout",
     "output_type": "stream",
     "text": [
      "The maximum number of contracts traded during the 2009 is 252221\n",
      "\n",
      "The minimum number of contracts traded during in the 2009 is 0\n"
     ]
    }
   ],
   "source": [
    "accessed_year = df.loc[df[\"year\"] == 2009, [\"volume\", \"year\"]]\n",
    "min_contracts = accessed_year[\"volume\"].min()\n",
    "max_contracts = accessed_year[\"volume\"].max()\n",
    "print(\"The maximum number of contracts traded during the 2009 is\", max_contracts)\n",
    "print()\n",
    "print(\"The minimum number of contracts traded during in the 2009 is\", min_contracts)"
   ]
  },
  {
   "cell_type": "markdown",
   "id": "8847b6ae",
   "metadata": {},
   "source": [
    "Which year have maximum and minimum number of contracts traded?"
   ]
  },
  {
   "cell_type": "code",
   "execution_count": 98,
   "id": "69d263b7",
   "metadata": {},
   "outputs": [
    {
     "name": "stdout",
     "output_type": "stream",
     "text": [
      "The maximum number of contracts traded in the year of 2017\n",
      "\n",
      "The minimum number of contracts traded in the year of 2003\n"
     ]
    }
   ],
   "source": [
    "max_contracts = df.loc[df[\"volume\"].idxmax(), \"year\"]\n",
    "min_contracts = df.loc[df[\"volume\"].idxmin(), \"year\"]\n",
    "print(\"The maximum number of contracts traded in the year of\", max_contracts)\n",
    "print()\n",
    "print(\"The minimum number of contracts traded in the year of\", min_contracts)"
   ]
  },
  {
   "cell_type": "markdown",
   "id": "e69d7e76",
   "metadata": {},
   "source": [
    "Which commodity have the average lowest opening price around 2001 to 2005?"
   ]
  },
  {
   "cell_type": "code",
   "execution_count": 143,
   "id": "9e4b1c61",
   "metadata": {},
   "outputs": [
    {
     "data": {
      "text/html": [
       "<div>\n",
       "<style scoped>\n",
       "    .dataframe tbody tr th:only-of-type {\n",
       "        vertical-align: middle;\n",
       "    }\n",
       "\n",
       "    .dataframe tbody tr th {\n",
       "        vertical-align: top;\n",
       "    }\n",
       "\n",
       "    .dataframe thead th {\n",
       "        text-align: right;\n",
       "    }\n",
       "</style>\n",
       "<table border=\"1\" class=\"dataframe\">\n",
       "  <thead>\n",
       "    <tr style=\"text-align: right;\">\n",
       "      <th></th>\n",
       "      <th>ticker</th>\n",
       "      <th>commodity</th>\n",
       "      <th>date</th>\n",
       "      <th>open</th>\n",
       "      <th>high</th>\n",
       "      <th>low</th>\n",
       "      <th>close</th>\n",
       "      <th>volume</th>\n",
       "      <th>year</th>\n",
       "    </tr>\n",
       "  </thead>\n",
       "  <tbody>\n",
       "    <tr>\n",
       "      <th>98</th>\n",
       "      <td>ZC=F</td>\n",
       "      <td>Corn</td>\n",
       "      <td>2001-01-02</td>\n",
       "      <td>221.00</td>\n",
       "      <td>221.00</td>\n",
       "      <td>221.0</td>\n",
       "      <td>222.50</td>\n",
       "      <td>1466</td>\n",
       "      <td>2001</td>\n",
       "    </tr>\n",
       "    <tr>\n",
       "      <th>99</th>\n",
       "      <td>ZC=F</td>\n",
       "      <td>Corn</td>\n",
       "      <td>2001-01-16</td>\n",
       "      <td>219.00</td>\n",
       "      <td>219.00</td>\n",
       "      <td>217.5</td>\n",
       "      <td>218.50</td>\n",
       "      <td>957</td>\n",
       "      <td>2001</td>\n",
       "    </tr>\n",
       "    <tr>\n",
       "      <th>100</th>\n",
       "      <td>ZC=F</td>\n",
       "      <td>Corn</td>\n",
       "      <td>2001-01-17</td>\n",
       "      <td>216.00</td>\n",
       "      <td>217.00</td>\n",
       "      <td>215.5</td>\n",
       "      <td>216.25</td>\n",
       "      <td>519</td>\n",
       "      <td>2001</td>\n",
       "    </tr>\n",
       "    <tr>\n",
       "      <th>101</th>\n",
       "      <td>ZC=F</td>\n",
       "      <td>Corn</td>\n",
       "      <td>2001-01-18</td>\n",
       "      <td>217.50</td>\n",
       "      <td>219.00</td>\n",
       "      <td>217.5</td>\n",
       "      <td>218.75</td>\n",
       "      <td>940</td>\n",
       "      <td>2001</td>\n",
       "    </tr>\n",
       "    <tr>\n",
       "      <th>102</th>\n",
       "      <td>ZC=F</td>\n",
       "      <td>Corn</td>\n",
       "      <td>2001-01-19</td>\n",
       "      <td>218.25</td>\n",
       "      <td>219.50</td>\n",
       "      <td>218.0</td>\n",
       "      <td>218.50</td>\n",
       "      <td>519</td>\n",
       "      <td>2001</td>\n",
       "    </tr>\n",
       "    <tr>\n",
       "      <th>...</th>\n",
       "      <td>...</td>\n",
       "      <td>...</td>\n",
       "      <td>...</td>\n",
       "      <td>...</td>\n",
       "      <td>...</td>\n",
       "      <td>...</td>\n",
       "      <td>...</td>\n",
       "      <td>...</td>\n",
       "      <td>...</td>\n",
       "    </tr>\n",
       "    <tr>\n",
       "      <th>30423</th>\n",
       "      <td>ZS=F</td>\n",
       "      <td>Soybean</td>\n",
       "      <td>2005-12-23</td>\n",
       "      <td>612.50</td>\n",
       "      <td>615.25</td>\n",
       "      <td>611.5</td>\n",
       "      <td>613.00</td>\n",
       "      <td>598</td>\n",
       "      <td>2005</td>\n",
       "    </tr>\n",
       "    <tr>\n",
       "      <th>30424</th>\n",
       "      <td>ZS=F</td>\n",
       "      <td>Soybean</td>\n",
       "      <td>2005-12-27</td>\n",
       "      <td>613.75</td>\n",
       "      <td>619.50</td>\n",
       "      <td>606.5</td>\n",
       "      <td>611.50</td>\n",
       "      <td>300</td>\n",
       "      <td>2005</td>\n",
       "    </tr>\n",
       "    <tr>\n",
       "      <th>30425</th>\n",
       "      <td>ZS=F</td>\n",
       "      <td>Soybean</td>\n",
       "      <td>2005-12-28</td>\n",
       "      <td>611.00</td>\n",
       "      <td>613.50</td>\n",
       "      <td>607.5</td>\n",
       "      <td>611.00</td>\n",
       "      <td>150</td>\n",
       "      <td>2005</td>\n",
       "    </tr>\n",
       "    <tr>\n",
       "      <th>30426</th>\n",
       "      <td>ZS=F</td>\n",
       "      <td>Soybean</td>\n",
       "      <td>2005-12-29</td>\n",
       "      <td>610.00</td>\n",
       "      <td>610.00</td>\n",
       "      <td>605.5</td>\n",
       "      <td>597.75</td>\n",
       "      <td>129</td>\n",
       "      <td>2005</td>\n",
       "    </tr>\n",
       "    <tr>\n",
       "      <th>30427</th>\n",
       "      <td>ZS=F</td>\n",
       "      <td>Soybean</td>\n",
       "      <td>2005-12-30</td>\n",
       "      <td>596.50</td>\n",
       "      <td>597.50</td>\n",
       "      <td>595.0</td>\n",
       "      <td>602.00</td>\n",
       "      <td>132</td>\n",
       "      <td>2005</td>\n",
       "    </tr>\n",
       "  </tbody>\n",
       "</table>\n",
       "<p>7330 rows × 9 columns</p>\n",
       "</div>"
      ],
      "text/plain": [
       "      ticker commodity       date    open    high    low   close  volume  year\n",
       "98      ZC=F      Corn 2001-01-02  221.00  221.00  221.0  222.50    1466  2001\n",
       "99      ZC=F      Corn 2001-01-16  219.00  219.00  217.5  218.50     957  2001\n",
       "100     ZC=F      Corn 2001-01-17  216.00  217.00  215.5  216.25     519  2001\n",
       "101     ZC=F      Corn 2001-01-18  217.50  219.00  217.5  218.75     940  2001\n",
       "102     ZC=F      Corn 2001-01-19  218.25  219.50  218.0  218.50     519  2001\n",
       "...      ...       ...        ...     ...     ...    ...     ...     ...   ...\n",
       "30423   ZS=F   Soybean 2005-12-23  612.50  615.25  611.5  613.00     598  2005\n",
       "30424   ZS=F   Soybean 2005-12-27  613.75  619.50  606.5  611.50     300  2005\n",
       "30425   ZS=F   Soybean 2005-12-28  611.00  613.50  607.5  611.00     150  2005\n",
       "30426   ZS=F   Soybean 2005-12-29  610.00  610.00  605.5  597.75     129  2005\n",
       "30427   ZS=F   Soybean 2005-12-30  596.50  597.50  595.0  602.00     132  2005\n",
       "\n",
       "[7330 rows x 9 columns]"
      ]
     },
     "execution_count": 143,
     "metadata": {},
     "output_type": "execute_result"
    }
   ],
   "source": [
    "group = df[(df[\"year\"] >= 2001) & (df[\"year\"] <= 2005)]\n",
    "group"
   ]
  },
  {
   "cell_type": "code",
   "execution_count": 197,
   "id": "aab10914",
   "metadata": {},
   "outputs": [
    {
     "data": {
      "text/html": [
       "<div>\n",
       "<style scoped>\n",
       "    .dataframe tbody tr th:only-of-type {\n",
       "        vertical-align: middle;\n",
       "    }\n",
       "\n",
       "    .dataframe tbody tr th {\n",
       "        vertical-align: top;\n",
       "    }\n",
       "\n",
       "    .dataframe thead th {\n",
       "        text-align: right;\n",
       "    }\n",
       "</style>\n",
       "<table border=\"1\" class=\"dataframe\">\n",
       "  <thead>\n",
       "    <tr style=\"text-align: right;\">\n",
       "      <th></th>\n",
       "      <th>open</th>\n",
       "    </tr>\n",
       "    <tr>\n",
       "      <th>commodity</th>\n",
       "      <th></th>\n",
       "    </tr>\n",
       "  </thead>\n",
       "  <tbody>\n",
       "    <tr>\n",
       "      <th>Corn</th>\n",
       "      <td>409.282059</td>\n",
       "    </tr>\n",
       "    <tr>\n",
       "      <th>KC HRW Wheat</th>\n",
       "      <td>563.985475</td>\n",
       "    </tr>\n",
       "    <tr>\n",
       "      <th>Oat</th>\n",
       "      <td>278.897021</td>\n",
       "    </tr>\n",
       "    <tr>\n",
       "      <th>Rough Rice</th>\n",
       "      <td>1143.643069</td>\n",
       "    </tr>\n",
       "    <tr>\n",
       "      <th>Soybean</th>\n",
       "      <td>997.618605</td>\n",
       "    </tr>\n",
       "    <tr>\n",
       "      <th>Soybean Oil</th>\n",
       "      <td>36.837337</td>\n",
       "    </tr>\n",
       "  </tbody>\n",
       "</table>\n",
       "</div>"
      ],
      "text/plain": [
       "                     open\n",
       "commodity                \n",
       "Corn           409.282059\n",
       "KC HRW Wheat   563.985475\n",
       "Oat            278.897021\n",
       "Rough Rice    1143.643069\n",
       "Soybean        997.618605\n",
       "Soybean Oil     36.837337"
      ]
     },
     "execution_count": 197,
     "metadata": {},
     "output_type": "execute_result"
    }
   ],
   "source": [
    "pivot = df.pivot_table(index = \"commodity\",\n",
    "                      values = \"open\",\n",
    "                      aggfunc = \"mean\")\n",
    "pivot"
   ]
  },
  {
   "cell_type": "code",
   "execution_count": 198,
   "id": "2fdb0a55",
   "metadata": {},
   "outputs": [
    {
     "data": {
      "text/plain": [
       "'Soybean Oil'"
      ]
     },
     "execution_count": 198,
     "metadata": {},
     "output_type": "execute_result"
    }
   ],
   "source": [
    "pivot[\"open\"].idxmin()"
   ]
  },
  {
   "cell_type": "markdown",
   "id": "c77f3e9d",
   "metadata": {},
   "source": [
    "Which commodity have the best average  Market's closing price?"
   ]
  },
  {
   "cell_type": "code",
   "execution_count": 192,
   "id": "e9ad3362",
   "metadata": {},
   "outputs": [
    {
     "data": {
      "text/html": [
       "<div>\n",
       "<style scoped>\n",
       "    .dataframe tbody tr th:only-of-type {\n",
       "        vertical-align: middle;\n",
       "    }\n",
       "\n",
       "    .dataframe tbody tr th {\n",
       "        vertical-align: top;\n",
       "    }\n",
       "\n",
       "    .dataframe thead th {\n",
       "        text-align: right;\n",
       "    }\n",
       "</style>\n",
       "<table border=\"1\" class=\"dataframe\">\n",
       "  <thead>\n",
       "    <tr style=\"text-align: right;\">\n",
       "      <th></th>\n",
       "      <th>close</th>\n",
       "    </tr>\n",
       "    <tr>\n",
       "      <th>commodity</th>\n",
       "      <th></th>\n",
       "    </tr>\n",
       "  </thead>\n",
       "  <tbody>\n",
       "    <tr>\n",
       "      <th>Corn</th>\n",
       "      <td>409.404772</td>\n",
       "    </tr>\n",
       "    <tr>\n",
       "      <th>KC HRW Wheat</th>\n",
       "      <td>563.693282</td>\n",
       "    </tr>\n",
       "    <tr>\n",
       "      <th>Oat</th>\n",
       "      <td>278.657674</td>\n",
       "    </tr>\n",
       "    <tr>\n",
       "      <th>Rough Rice</th>\n",
       "      <td>1143.607925</td>\n",
       "    </tr>\n",
       "    <tr>\n",
       "      <th>Soybean</th>\n",
       "      <td>998.015728</td>\n",
       "    </tr>\n",
       "    <tr>\n",
       "      <th>Soybean Oil</th>\n",
       "      <td>36.820361</td>\n",
       "    </tr>\n",
       "  </tbody>\n",
       "</table>\n",
       "</div>"
      ],
      "text/plain": [
       "                    close\n",
       "commodity                \n",
       "Corn           409.404772\n",
       "KC HRW Wheat   563.693282\n",
       "Oat            278.657674\n",
       "Rough Rice    1143.607925\n",
       "Soybean        998.015728\n",
       "Soybean Oil     36.820361"
      ]
     },
     "execution_count": 192,
     "metadata": {},
     "output_type": "execute_result"
    }
   ],
   "source": [
    "pivot = df.pivot_table(index = \"commodity\",\n",
    "                      values = \"close\",\n",
    "                       aggfunc = \"mean\")\n",
    "pivot"
   ]
  },
  {
   "cell_type": "code",
   "execution_count": 194,
   "id": "a8688959",
   "metadata": {},
   "outputs": [
    {
     "data": {
      "text/plain": [
       "'Rough Rice'"
      ]
     },
     "execution_count": 194,
     "metadata": {},
     "output_type": "execute_result"
    }
   ],
   "source": [
    "pivot[\"close\"].idxmax()\n"
   ]
  },
  {
   "cell_type": "markdown",
   "id": "af95e967",
   "metadata": {},
   "source": [
    "Which year corn have the highest and lowest Number of contracts traded?"
   ]
  },
  {
   "cell_type": "code",
   "execution_count": 188,
   "id": "bd7d7f41",
   "metadata": {},
   "outputs": [
    {
     "data": {
      "text/plain": [
       "2017"
      ]
     },
     "execution_count": 188,
     "metadata": {},
     "output_type": "execute_result"
    }
   ],
   "source": [
    "grouped_df = df.groupby(\"commodity\")\n",
    "corn = grouped_df.get_group(\"Corn\")\n",
    "corn.loc[porn[\"volume\"].idxmax(), \"year\"]"
   ]
  },
  {
   "cell_type": "code",
   "execution_count": 189,
   "id": "6f3e0bf6",
   "metadata": {},
   "outputs": [
    {
     "data": {
      "text/plain": [
       "2003"
      ]
     },
     "execution_count": 189,
     "metadata": {},
     "output_type": "execute_result"
    }
   ],
   "source": [
    "corn.loc[corn[\"volume\"].idxmin(), \"year\"]"
   ]
  },
  {
   "cell_type": "code",
   "execution_count": null,
   "id": "56c47e4e",
   "metadata": {},
   "outputs": [],
   "source": []
  }
 ],
 "metadata": {
  "kernelspec": {
   "display_name": "Python 3 (ipykernel)",
   "language": "python",
   "name": "python3"
  },
  "language_info": {
   "codemirror_mode": {
    "name": "ipython",
    "version": 3
   },
   "file_extension": ".py",
   "mimetype": "text/x-python",
   "name": "python",
   "nbconvert_exporter": "python",
   "pygments_lexer": "ipython3",
   "version": "3.11.4"
  }
 },
 "nbformat": 4,
 "nbformat_minor": 5
}
