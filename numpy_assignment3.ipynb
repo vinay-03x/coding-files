{
 "cells": [
  {
   "cell_type": "markdown",
   "id": "e875ec89",
   "metadata": {},
   "source": [
    "1) Write a program to create a 5 dimensional array with all zeros and ones"
   ]
  },
  {
   "cell_type": "code",
   "execution_count": 2,
   "id": "f5d2e8ed",
   "metadata": {},
   "outputs": [],
   "source": [
    "import numpy as np"
   ]
  },
  {
   "cell_type": "code",
   "execution_count": 8,
   "id": "7271e053",
   "metadata": {},
   "outputs": [],
   "source": [
    "array_1=np.array([np.zeros(5)],ndmin=5,dtype=int)\n",
    "array_2=np.array([np.ones(5)],ndmin=5,dtype=int)"
   ]
  },
  {
   "cell_type": "code",
   "execution_count": null,
   "id": "44309ee9",
   "metadata": {},
   "outputs": [],
   "source": []
  },
  {
   "cell_type": "code",
   "execution_count": 9,
   "id": "67d11eee",
   "metadata": {},
   "outputs": [
    {
     "data": {
      "text/plain": [
       "array([[[[[0, 0, 0, 0, 0]]]]])"
      ]
     },
     "execution_count": 9,
     "metadata": {},
     "output_type": "execute_result"
    }
   ],
   "source": [
    "array_1"
   ]
  },
  {
   "cell_type": "code",
   "execution_count": 10,
   "id": "eec3950a",
   "metadata": {},
   "outputs": [
    {
     "data": {
      "text/plain": [
       "array([[[[[1, 1, 1, 1, 1]]]]])"
      ]
     },
     "execution_count": 10,
     "metadata": {},
     "output_type": "execute_result"
    }
   ],
   "source": [
    "array_2"
   ]
  },
  {
   "cell_type": "markdown",
   "id": "f5343af7",
   "metadata": {},
   "source": [
    "2) Write a program to create an array of 10 zeros,10 ones, and 10 fives in row 1 2 and 3 which\n",
    "\n",
    "    create a new array of shape (3,10)"
   ]
  },
  {
   "cell_type": "code",
   "execution_count": 35,
   "id": "e32ad1ac",
   "metadata": {},
   "outputs": [
    {
     "data": {
      "text/plain": [
       "array([[0, 0, 0, 0, 0, 0, 0, 0, 0, 0],\n",
       "       [1, 1, 1, 1, 1, 1, 1, 1, 1, 1],\n",
       "       [5, 5, 5, 5, 5, 5, 5, 5, 5, 5]])"
      ]
     },
     "execution_count": 35,
     "metadata": {},
     "output_type": "execute_result"
    }
   ],
   "source": [
    "arr1=np.zeros(10,dtype=int)\n",
    "arr2=np.ones(10,dtype=int)\n",
    "arr3=np.full(10,5)\n",
    "np.vstack([arr1,arr2,arr3])"
   ]
  },
  {
   "cell_type": "code",
   "execution_count": null,
   "id": "e102f23e",
   "metadata": {},
   "outputs": [],
   "source": []
  },
  {
   "cell_type": "markdown",
   "id": "62ead7fe",
   "metadata": {},
   "source": [
    "3) Write a program to create a 3x4 matrix filled with values from 10 to 21."
   ]
  },
  {
   "cell_type": "code",
   "execution_count": 37,
   "id": "f41f5559",
   "metadata": {},
   "outputs": [
    {
     "data": {
      "text/plain": [
       "array([[10, 11, 12, 13],\n",
       "       [14, 15, 16, 17],\n",
       "       [18, 19, 20, 21]])"
      ]
     },
     "execution_count": 37,
     "metadata": {},
     "output_type": "execute_result"
    }
   ],
   "source": [
    "np.arange(10,22).reshape(3,4)"
   ]
  },
  {
   "cell_type": "markdown",
   "id": "ceb04975",
   "metadata": {},
   "source": [
    "4) Write a program to create a 10x10 zero matrix with elements on the main diagonal equal to\n",
    "    0,1,2,3,4,5,6,7,8,9,"
   ]
  },
  {
   "cell_type": "code",
   "execution_count": 39,
   "id": "1e349ecf",
   "metadata": {},
   "outputs": [
    {
     "data": {
      "text/plain": [
       "array([[0, 0, 0, 0, 0, 0, 0, 0, 0, 0],\n",
       "       [0, 1, 0, 0, 0, 0, 0, 0, 0, 0],\n",
       "       [0, 0, 2, 0, 0, 0, 0, 0, 0, 0],\n",
       "       [0, 0, 0, 3, 0, 0, 0, 0, 0, 0],\n",
       "       [0, 0, 0, 0, 4, 0, 0, 0, 0, 0],\n",
       "       [0, 0, 0, 0, 0, 5, 0, 0, 0, 0],\n",
       "       [0, 0, 0, 0, 0, 0, 6, 0, 0, 0],\n",
       "       [0, 0, 0, 0, 0, 0, 0, 7, 0, 0],\n",
       "       [0, 0, 0, 0, 0, 0, 0, 0, 8, 0],\n",
       "       [0, 0, 0, 0, 0, 0, 0, 0, 0, 9]])"
      ]
     },
     "execution_count": 39,
     "metadata": {},
     "output_type": "execute_result"
    }
   ],
   "source": [
    "np.diag([0,1,2,3,4,5,6,7,8,9])"
   ]
  },
  {
   "cell_type": "code",
   "execution_count": null,
   "id": "b903237e",
   "metadata": {},
   "outputs": [],
   "source": []
  },
  {
   "cell_type": "markdown",
   "id": "32cfa826",
   "metadata": {},
   "source": [
    "\n",
    "5)Write a program to create a 4x4 array. Create an array from below array by swapping first and\n",
    "last, second and third columns."
   ]
  },
  {
   "cell_type": "code",
   "execution_count": 52,
   "id": "b0d11f17",
   "metadata": {},
   "outputs": [],
   "source": [
    "arr3=np.arange(1,17).reshape(4,4)"
   ]
  },
  {
   "cell_type": "code",
   "execution_count": 53,
   "id": "e419393b",
   "metadata": {},
   "outputs": [
    {
     "data": {
      "text/plain": [
       "array([[ 1,  2,  3,  4],\n",
       "       [ 5,  6,  7,  8],\n",
       "       [ 9, 10, 11, 12],\n",
       "       [13, 14, 15, 16]])"
      ]
     },
     "execution_count": 53,
     "metadata": {},
     "output_type": "execute_result"
    }
   ],
   "source": [
    "arr3"
   ]
  },
  {
   "cell_type": "code",
   "execution_count": 54,
   "id": "a10f65ff",
   "metadata": {},
   "outputs": [
    {
     "data": {
      "text/plain": [
       "array([[ 4,  3,  2,  1],\n",
       "       [ 8,  7,  6,  5],\n",
       "       [12, 11, 10,  9],\n",
       "       [16, 15, 14, 13]])"
      ]
     },
     "execution_count": 54,
     "metadata": {},
     "output_type": "execute_result"
    }
   ],
   "source": [
    "arr3[:,::-1]"
   ]
  },
  {
   "cell_type": "markdown",
   "id": "b862d802",
   "metadata": {},
   "source": [
    "6) Write a program to reverse an array (the first element becomes the last).\n",
    "    Given array:\n"
   ]
  },
  {
   "cell_type": "code",
   "execution_count": 65,
   "id": "404f01e9",
   "metadata": {},
   "outputs": [
    {
     "data": {
      "text/plain": [
       "array([27, 26, 25, 24, 23, 22, 21, 20, 19, 18, 17, 16, 15, 14, 13, 12])"
      ]
     },
     "execution_count": 65,
     "metadata": {},
     "output_type": "execute_result"
    }
   ],
   "source": [
    "ar3=np.arange(12,28)\n",
    "np.flip(ar3)"
   ]
  },
  {
   "cell_type": "code",
   "execution_count": null,
   "id": "b0627c8d",
   "metadata": {},
   "outputs": [],
   "source": []
  },
  {
   "cell_type": "markdown",
   "id": "c9d68fc9",
   "metadata": {},
   "source": [
    "7) Write a program to access all the elements greater than 30 and less than 80 and multiples of 5\n",
    "    from an array of shape 10,10 .Elements range from 1 to 100\n"
   ]
  },
  {
   "cell_type": "code",
   "execution_count": 81,
   "id": "000044f5",
   "metadata": {},
   "outputs": [
    {
     "name": "stdout",
     "output_type": "stream",
     "text": [
      "[  1   2   3   4   5   6   7   8   9  10  11  12  13  14  15  16  17  18\n",
      "  19  20  21  22  23  24  25  26  27  28  29  30  31  32  33  34  35  36\n",
      "  37  38  39  40  41  42  43  44  45  46  47  48  49  50  51  52  53  54\n",
      "  55  56  57  58  59  60  61  62  63  64  65  66  67  68  69  70  71  72\n",
      "  73  74  75  76  77  78  79  80  81  82  83  84  85  86  87  88  89  90\n",
      "  91  92  93  94  95  96  97  98  99 100]\n"
     ]
    }
   ],
   "source": [
    "arr1=np.arange(1,101)\n",
    "print(arr1)\n"
   ]
  },
  {
   "cell_type": "code",
   "execution_count": 82,
   "id": "6a0033cb",
   "metadata": {},
   "outputs": [],
   "source": [
    "in30_80=arr1[(arr1>30) & (arr1<80) & (arr1%5==0)]"
   ]
  },
  {
   "cell_type": "code",
   "execution_count": 84,
   "id": "59a1d22e",
   "metadata": {},
   "outputs": [
    {
     "name": "stdout",
     "output_type": "stream",
     "text": [
      "the elements greater than 30 and 80 and multiples of 5 \n",
      "[35 40 45 50 55 60 65 70 75]\n"
     ]
    }
   ],
   "source": [
    "print(f\"the elements greater than 30 and 80 and multiples of 5 \\n{in30_80}\")"
   ]
  },
  {
   "cell_type": "markdown",
   "id": "f05eabf8",
   "metadata": {},
   "source": [
    "8) Write a program to create a 2D array with 1 on the border and 0 inside."
   ]
  },
  {
   "cell_type": "code",
   "execution_count": 97,
   "id": "71d84e5a",
   "metadata": {},
   "outputs": [
    {
     "name": "stdout",
     "output_type": "stream",
     "text": [
      "[[1. 1. 1.]\n",
      " [1. 0. 1.]\n",
      " [1. 1. 1.]]\n"
     ]
    }
   ],
   "source": [
    "oner=np.ones(9).reshape(3,3)\n",
    "oner[1][1]=0\n",
    "print(oner)"
   ]
  },
  {
   "cell_type": "code",
   "execution_count": 91,
   "id": "4dc14637",
   "metadata": {},
   "outputs": [],
   "source": []
  },
  {
   "cell_type": "markdown",
   "id": "c954eed9",
   "metadata": {},
   "source": [
    "9) Write a program to create a checkerboard pattern .Don't use default array function\n",
    "  Checkerboard pattern:\n"
   ]
  },
  {
   "cell_type": "code",
   "execution_count": 150,
   "id": "fd46ac0f",
   "metadata": {},
   "outputs": [
    {
     "name": "stdout",
     "output_type": "stream",
     "text": [
      "Checkerboard pattern:\n",
      "[[0 1 0 1 0 1 0 1]\n",
      " [1 0 1 0 1 0 1 0]\n",
      " [0 1 0 1 0 1 0 1]\n",
      " [1 0 1 0 1 0 1 0]\n",
      " [0 1 0 1 0 1 0 1]\n",
      " [1 0 1 0 1 0 1 0]\n",
      " [0 1 0 1 0 1 0 1]\n",
      " [1 0 1 0 1 0 1 0]]\n"
     ]
    }
   ],
   "source": [
    "c=np.eye(2,dtype=int)[::-1]\n",
    "d=np.tile(c,(4,4))\n",
    "print(\"Checkerboard pattern:\")\n",
    "print(d)"
   ]
  },
  {
   "cell_type": "code",
   "execution_count": null,
   "id": "7f0e936f",
   "metadata": {},
   "outputs": [],
   "source": []
  },
  {
   "cell_type": "code",
   "execution_count": null,
   "id": "0fb8b3d3",
   "metadata": {},
   "outputs": [],
   "source": [
    "10) Write a program to find common values between two arrays.\n",
    "Expected Output:"
   ]
  },
  {
   "cell_type": "code",
   "execution_count": 151,
   "id": "96846442",
   "metadata": {},
   "outputs": [],
   "source": [
    "arr2 = np.array([10, 20 ,40 ,60])\n",
    "arr3 =np.array([10, 30, 40,50])"
   ]
  },
  {
   "cell_type": "code",
   "execution_count": 152,
   "id": "6f96988e",
   "metadata": {},
   "outputs": [],
   "source": [
    "c=np.intersect1d(arr2,arr3)"
   ]
  },
  {
   "cell_type": "code",
   "execution_count": 154,
   "id": "fbfe95de",
   "metadata": {},
   "outputs": [
    {
     "name": "stdout",
     "output_type": "stream",
     "text": [
      "common values between two arrays:\n",
      " [10 40]\n"
     ]
    }
   ],
   "source": [
    "print(\"common values between two arrays:\\n\",c)"
   ]
  },
  {
   "cell_type": "markdown",
   "id": "45e0da93",
   "metadata": {},
   "source": [
    "11) Write a program to create an array 2d array and then reshape into 1d array\n"
   ]
  },
  {
   "cell_type": "code",
   "execution_count": 167,
   "id": "91b8316b",
   "metadata": {},
   "outputs": [
    {
     "name": "stdout",
     "output_type": "stream",
     "text": [
      "2D array:\n",
      " [[1 2 3]\n",
      " [4 5 6]\n",
      " [7 8 9]]\n",
      "Reshape into 1D array:\n",
      " [1 2 3 4 5 6 7 8 9]\n"
     ]
    }
   ],
   "source": [
    "d2=np.arange(1,10).reshape(3,3)\n",
    "print(\"2D array:\\n\",d2)\n",
    "print(\"Reshape into 1D array:\\n\",d2.reshape(-1))"
   ]
  },
  {
   "cell_type": "markdown",
   "id": "6bc2c03b",
   "metadata": {},
   "source": [
    "12) Write a user defined function for creating a 1 or 2d array from scratch without using array\n",
    "    functions\n"
   ]
  },
  {
   "cell_type": "code",
   "execution_count": 196,
   "id": "af33fb6d",
   "metadata": {},
   "outputs": [
    {
     "name": "stdout",
     "output_type": "stream",
     "text": [
      "enter number of elements: 3\n",
      "enter the number:3\n",
      "1D Array:\n",
      "[3, 3, 3]\n"
     ]
    }
   ],
   "source": [
    "def cre_ar(col,num=0):\n",
    "    array = []\n",
    "    for i in range(col):\n",
    "        col = num\n",
    "        \n",
    "        array.append(col)\n",
    "    return array\n",
    "one1D = cre_ar(col=int(input(\"enter number of elements: \")),num=int(input(\"enter the number:\")))\n",
    "print(\"1D Array:\")\n",
    "print(one1D)"
   ]
  },
  {
   "cell_type": "code",
   "execution_count": 195,
   "id": "28d8e038",
   "metadata": {},
   "outputs": [
    {
     "name": "stdout",
     "output_type": "stream",
     "text": [
      "enter number of cloumsn2\n",
      "enter number of columns2\n",
      "enter the number3\n",
      "\n",
      "2D Array\n",
      "[3, 3]\n",
      "[[3, 3]]\n"
     ]
    }
   ],
   "source": [
    "def cre_ar(rows,colums,num):\n",
    "    for i in range(rows):\n",
    "        array=[]\n",
    "        row = [num] * colums\n",
    "        array.append(row)\n",
    "        return array      \n",
    "            \n",
    "two2D = cre_ar(rows=int(input(\"enter number of cloumsn\")),\n",
    "               colums=int(input(\"enter number of columns\")),\n",
    "               num=int(input(\"enter the number\")))\n",
    "print(\"2D Array\")\n",
    "for row in two2D:\n",
    "    print(row)\n",
    "    print(two2D)\n"
   ]
  },
  {
   "cell_type": "code",
   "execution_count": null,
   "id": "5137b16f",
   "metadata": {},
   "outputs": [],
   "source": []
  }
 ],
 "metadata": {
  "kernelspec": {
   "display_name": "Python 3 (ipykernel)",
   "language": "python",
   "name": "python3"
  },
  "language_info": {
   "codemirror_mode": {
    "name": "ipython",
    "version": 3
   },
   "file_extension": ".py",
   "mimetype": "text/x-python",
   "name": "python",
   "nbconvert_exporter": "python",
   "pygments_lexer": "ipython3",
   "version": "3.11.4"
  }
 },
 "nbformat": 4,
 "nbformat_minor": 5
}
