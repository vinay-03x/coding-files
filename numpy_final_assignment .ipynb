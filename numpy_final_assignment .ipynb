{
 "cells": [
  {
   "cell_type": "markdown",
   "id": "026e215a-e059-442c-b4bb-f67b5b3f6308",
   "metadata": {},
   "source": [
    "# 1"
   ]
  },
  {
   "cell_type": "code",
   "execution_count": 397,
   "id": "713b0098-46a3-468f-a8d2-5c7a9f10637a",
   "metadata": {},
   "outputs": [],
   "source": [
    "import numpy as np"
   ]
  },
  {
   "cell_type": "code",
   "execution_count": 398,
   "id": "deffe8c9-49bd-4d4c-a863-9a9fceb93d9f",
   "metadata": {},
   "outputs": [],
   "source": [
    "b=np.genfromtxt(r\"C:\\Users\\vinay\\Downloads\\tipsf.csv\",delimiter=\",\",skip_header=1)"
   ]
  },
  {
   "cell_type": "code",
   "execution_count": 399,
   "id": "af5038d0-dbe9-48c1-9122-8acb5b0ce7bd",
   "metadata": {},
   "outputs": [],
   "source": [
    "total_bill=b[:,1]\n",
    "tip=b[:,2]\n",
    "sex=b[:,3]\n",
    "smoker=b[:,4]\n",
    "day=b[:,5]\n",
    "time=b[:,6]\n",
    "size=b[:,7]\n",
    "mind=np.where(sex==1)\n",
    "male=sex.take(mind)\n",
    "find=np.where(sex==0)\n",
    "female=sex.take(find)"
   ]
  },
  {
   "cell_type": "markdown",
   "id": "5d95f86c-b215-4f01-8652-e4d715ec3241",
   "metadata": {},
   "source": [
    "#### 1-what is the total bill value"
   ]
  },
  {
   "cell_type": "code",
   "execution_count": 400,
   "id": "6ecf5ca4-d29f-4c58-8f1e-12f943455989",
   "metadata": {},
   "outputs": [
    {
     "name": "stdout",
     "output_type": "stream",
     "text": [
      "Total bill value: 4827.77\n"
     ]
    }
   ],
   "source": [
    "val_totl=np.sum(total_bill)\n",
    "print(\"Total bill value:\",val_totl)"
   ]
  },
  {
   "cell_type": "markdown",
   "id": "bb557774-0b13-4aeb-9183-aa7dce646203",
   "metadata": {},
   "source": [
    "#### 2- what is the total tip value"
   ]
  },
  {
   "cell_type": "code",
   "execution_count": 401,
   "id": "da3cae1e-307a-469c-ba5f-da72057bd355",
   "metadata": {},
   "outputs": [
    {
     "name": "stdout",
     "output_type": "stream",
     "text": [
      "total tip: 731.5799999999999\n"
     ]
    }
   ],
   "source": [
    "val_tip=np.sum(tip)\n",
    "print(\"total tip:\",val_tip)"
   ]
  },
  {
   "cell_type": "markdown",
   "id": "a82890a5-7aa1-43b6-9bfd-c21d143d1ebc",
   "metadata": {},
   "source": [
    "#### 3- count how many sun,sat thu,fri are there "
   ]
  },
  {
   "cell_type": "code",
   "execution_count": 459,
   "id": "4cc528bd-98ff-4a6a-ad4d-b8542867e261",
   "metadata": {},
   "outputs": [
    {
     "name": "stdout",
     "output_type": "stream",
     "text": [
      "Number of sunday: 87\n",
      "Number of saturday: 76\n",
      "Number of thursday: 62\n",
      "Number of friday: 19\n"
     ]
    }
   ],
   "source": [
    "sind=np.where(day==0)\n",
    "sunday=day.take(sind)\n",
    "stind=np.where(day==1)\n",
    "sat=day.take(stind)\n",
    "tind=np.where(day==2)\n",
    "thu=day.take(tind)\n",
    "find=np.where(day==3)\n",
    "fri=day.take(find)\n",
    "print(\"Number of sunday:\",sunday.size)\n",
    "print(\"Number of saturday:\",sat.size)\n",
    "print(\"Number of thursday:\",thu.size)\n",
    "print(\"Number of friday:\",fri.size)"
   ]
  },
  {
   "cell_type": "markdown",
   "id": "245d1d1d-3d26-4204-9794-a77536d1c38a",
   "metadata": {},
   "source": [
    "#### 4-how many smokers are there "
   ]
  },
  {
   "cell_type": "code",
   "execution_count": 402,
   "id": "9c934902-73c5-493a-86c4-2ad6db95bec5",
   "metadata": {},
   "outputs": [
    {
     "name": "stdout",
     "output_type": "stream",
     "text": [
      "number of smokers: 93\n"
     ]
    }
   ],
   "source": [
    "print(\"number of smokers:\",np.count_nonzero(smoker))"
   ]
  },
  {
   "cell_type": "markdown",
   "id": "ea35a431-70f8-4b16-ba64-7132cb84e64a",
   "metadata": {},
   "source": [
    "#### 5- what is the avg tip given by female and male"
   ]
  },
  {
   "cell_type": "code",
   "execution_count": 447,
   "id": "a3cf82df-c485-4558-80d7-a9e809e0d76b",
   "metadata": {},
   "outputs": [
    {
     "name": "stdout",
     "output_type": "stream",
     "text": [
      "average tip given by male: 3.0896178343949043\n",
      "average tip given by female: 2.8334482758620685\n"
     ]
    }
   ],
   "source": [
    "avg_tipf=tip.take(find)\n",
    "avg_tipm=tip.take(mind)\n",
    "print(\"average tip given by male:\",np.average(avg_tipm))\n",
    "print(\"average tip given by female:\",np.average(avg_tipf))"
   ]
  },
  {
   "cell_type": "markdown",
   "id": "4e30c823-6621-46a4-a743-878a628b70e7",
   "metadata": {},
   "source": [
    "### 6- how much amount have been spent by female and male"
   ]
  },
  {
   "cell_type": "code",
   "execution_count": 453,
   "id": "79ae963a-115d-455b-9358-2eaeae9dabc0",
   "metadata": {},
   "outputs": [
    {
     "name": "stdout",
     "output_type": "stream",
     "text": [
      "total amount spent by male: 79412.81\n",
      "total amount spend by female: 23017.32\n"
     ]
    }
   ],
   "source": [
    "x1=np.sum(tip.take(mind))\n",
    "x2=np.sum(tip.take(find))\n",
    "\n",
    "print(\"total amount spent by male:\",np.sum(total_bill.take(mind)+x1))\n",
    "print(\"total amount spend by female:\",np.sum(total_bill.take(find)+x2))"
   ]
  },
  {
   "cell_type": "markdown",
   "id": "c8ff5760-f1b8-49c7-9c2c-07f7d020001f",
   "metadata": {},
   "source": [
    "#### 7-what is the min and mix tip given"
   ]
  },
  {
   "cell_type": "code",
   "execution_count": 405,
   "id": "8ca23fed-064c-4c64-8fa1-008ca7cec9d1",
   "metadata": {},
   "outputs": [
    {
     "name": "stdout",
     "output_type": "stream",
     "text": [
      "max tip: 10.0\n",
      "min tip: 1.0\n"
     ]
    }
   ],
   "source": [
    "max_tip=np.max(tip)\n",
    "min_tip=np.min(tip)\n",
    "print(\"max tip:\",max_tip)\n",
    "print(\"min tip:\",min_tip)"
   ]
  },
  {
   "cell_type": "markdown",
   "id": "adda9eac-b1ba-4caa-b1b9-50b268e27ecf",
   "metadata": {},
   "source": [
    "### 8- how many male and females are going for dinner and lunch"
   ]
  },
  {
   "cell_type": "code",
   "execution_count": 467,
   "id": "e3c3c010-e763-41c3-a8d7-31fcd045bdb3",
   "metadata": {},
   "outputs": [
    {
     "name": "stdout",
     "output_type": "stream",
     "text": [
      "number males going for lunch and dinner: 157\n",
      "number females going for lunch and dinner: 19\n"
     ]
    }
   ],
   "source": [
    "male_dl=time.take(mind)\n",
    "female_dl=time.take(find)\n",
    "print(\"number males going for lunch and dinner:\",male_dl.size)\n",
    "print(\"number females going for lunch and dinner:\",female_dl.size)"
   ]
  },
  {
   "cell_type": "markdown",
   "id": "08d1ea2a-f42d-45b0-98ac-6c8fd38acca8",
   "metadata": {},
   "source": [
    "#### 9- find out the avg size"
   ]
  },
  {
   "cell_type": "code",
   "execution_count": 407,
   "id": "5e346e31-88c1-4194-9ee2-51ddbdd3ef4b",
   "metadata": {},
   "outputs": [
    {
     "name": "stdout",
     "output_type": "stream",
     "text": [
      "average size: 2.569672131147541\n"
     ]
    }
   ],
   "source": [
    "avg_size=np.average(size)\n",
    "print(\"average size:\",avg_size)"
   ]
  },
  {
   "cell_type": "markdown",
   "id": "aa8d820e-bec4-4cbb-a04e-ca57ca6437cf",
   "metadata": {},
   "source": [
    "#### 10- how many female smokers are there and male smokers are there"
   ]
  },
  {
   "cell_type": "code",
   "execution_count": 429,
   "id": "67b2d4fd-3375-4d4f-b2e0-f978d6ba2f81",
   "metadata": {},
   "outputs": [
    {
     "name": "stdout",
     "output_type": "stream",
     "text": [
      "number of male smokers: 46\n",
      "number of female smokers: 87\n"
     ]
    }
   ],
   "source": [
    "number1=np.where(smoker==1)\n",
    "num_smokers=sex.take(number1)\n",
    "ms_ind=np.where(num_smokers==1)\n",
    "male_smokers=sex.take(ms_ind)\n",
    "fs_ind=np.where(num_smokers==0)\n",
    "female_smokers=sex.take(fs_ind)\n",
    "print(\"number of male smokers:\",np.count_nonzero(male_smokers))\n",
    "print(\"number of female smokers:\",female.size)"
   ]
  },
  {
   "cell_type": "code",
   "execution_count": null,
   "id": "1cdeeff8-59c4-42e6-963d-a34e8e96fac7",
   "metadata": {},
   "outputs": [],
   "source": []
  },
  {
   "cell_type": "markdown",
   "id": "6b6890f4-97d4-4c6a-882e-aa787e1f20d5",
   "metadata": {},
   "source": [
    "# 2------------------------------------------------------------------------------------->"
   ]
  },
  {
   "cell_type": "code",
   "execution_count": 280,
   "id": "10fa79e1",
   "metadata": {},
   "outputs": [],
   "source": [
    "a=np.genfromtxt(r\"C:\\Users\\vinay\\Downloads\\train_extended.csv\",delimiter=\",\",skip_header=1)"
   ]
  },
  {
   "cell_type": "code",
   "execution_count": 328,
   "id": "bfb098ad-bfd3-453c-bb50-2d5c12f20879",
   "metadata": {},
   "outputs": [],
   "source": [
    "length=a[:,0]\n",
    "diameter=a[:,1]\n",
    "hight=a[:,2]\n",
    "weight=a[:,3]\n",
    "sw=a[:,4]\n",
    "vw=a[:,5]\n",
    "shw=a[:,6]\n",
    "age=a[:,7]"
   ]
  },
  {
   "cell_type": "markdown",
   "id": "fba9d183-527a-4b89-9a5e-3b86b85166c1",
   "metadata": {},
   "source": [
    "#### 1-what is the max and min length"
   ]
  },
  {
   "cell_type": "code",
   "execution_count": 331,
   "id": "52114f82-c384-4f9c-b8b6-3de234d29d20",
   "metadata": {},
   "outputs": [
    {
     "name": "stdout",
     "output_type": "stream",
     "text": [
      "max: 7.58349125\n",
      "min: 0.0\n"
     ]
    }
   ],
   "source": [
    "m=np.max(length)\n",
    "m1=np.min(length)\n",
    "print(f\"max: {m}\")\n",
    "print(\"min:\",m1)"
   ]
  },
  {
   "cell_type": "markdown",
   "id": "38c59fa6-b8c4-4ae0-b8f9-9301b47fd0d9",
   "metadata": {},
   "source": [
    "#### 2-find out the diff b/w max and min lenght"
   ]
  },
  {
   "cell_type": "code",
   "execution_count": 332,
   "id": "18027926-fb04-4a81-9318-8e347b527fc0",
   "metadata": {},
   "outputs": [
    {
     "name": "stdout",
     "output_type": "stream",
     "text": [
      "difference betweeen max and min\n",
      "7.58349125\n"
     ]
    }
   ],
   "source": [
    "print(\"difference betweeen max and min\")\n",
    "c=np.subtract(m,m1)\n",
    "print(c)"
   ]
  },
  {
   "cell_type": "markdown",
   "id": "52163024-46e5-4176-95e5-3030bf061cc6",
   "metadata": {},
   "source": [
    "#### 3-Find colomnwise average"
   ]
  },
  {
   "cell_type": "code",
   "execution_count": 294,
   "id": "c640aba4-01a7-4c70-8f79-83d5d11e13a0",
   "metadata": {},
   "outputs": [
    {
     "name": "stdout",
     "output_type": "stream",
     "text": [
      "column wise average:\n",
      " [ 1.31244808  1.02032036  0.34602787 23.12343631  9.98937025  4.99318096\n",
      "  6.63422915  9.950615  ]\n"
     ]
    }
   ],
   "source": [
    "print(\"column wise average:\\n\",np.average(a,axis=0))\n"
   ]
  },
  {
   "cell_type": "markdown",
   "id": "c2602b77-373b-4e6b-8822-6b6d66ef1bf3",
   "metadata": {},
   "source": [
    "#### 4-Find out all the age whose hight is >0.4"
   ]
  },
  {
   "cell_type": "code",
   "execution_count": 335,
   "id": "7e31e9d1-459c-4172-bb11-f80916be0b75",
   "metadata": {},
   "outputs": [
    {
     "name": "stdout",
     "output_type": "stream",
     "text": [
      "Age whose hight greater then 0.4\n"
     ]
    },
    {
     "data": {
      "text/plain": [
       "array([[11., 14., 13., ..., 11., 11., 11.]])"
      ]
     },
     "execution_count": 335,
     "metadata": {},
     "output_type": "execute_result"
    }
   ],
   "source": [
    "h0=np.where(hight>0.4)\n",
    "print(\"Age whose hight greater then 0.4\")\n",
    "age.take(h0)"
   ]
  },
  {
   "cell_type": "markdown",
   "id": "f125be7e-c549-47f1-a3a2-5588d9962a5f",
   "metadata": {},
   "source": [
    "#### 5- what is the avg hight and weight of the persons who age is 10"
   ]
  },
  {
   "cell_type": "code",
   "execution_count": 343,
   "id": "4af3fba6-e8b4-47bc-a0d3-a2518b50758f",
   "metadata": {},
   "outputs": [
    {
     "name": "stdout",
     "output_type": "stream",
     "text": [
      "average hight persons with age is 10: 0.3833672856539947\n",
      "average hight persons with age is 10: 28.243308450511314\n"
     ]
    }
   ],
   "source": [
    "avg_hw=np.where(age==10)\n",
    "g=hight.take(avg_hw)\n",
    "k=weight.take(avg_hw)\n",
    "avg_h=np.average(g)\n",
    "avg_w=np.average(k)\n",
    "print(\"average hight persons with age is 10:\",avg_h)\n",
    "print(\"average hight persons with age is 10:\",avg_w)"
   ]
  },
  {
   "cell_type": "markdown",
   "id": "7042e11d-5a73-428f-8352-3d2ede466bab",
   "metadata": {},
   "source": [
    "#### 6- what is the total shell weight"
   ]
  },
  {
   "cell_type": "code",
   "execution_count": 248,
   "id": "6d516905-31d4-45d1-a310-820806f85ee7",
   "metadata": {},
   "outputs": [
    {
     "name": "stdout",
     "output_type": "stream",
     "text": [
      "total of shell weight: 1997874.0496098\n"
     ]
    }
   ],
   "source": [
    "print(\"total of shell weight:\",np.sum(sw))"
   ]
  },
  {
   "cell_type": "markdown",
   "id": "a7cc79d7-e399-4955-ad0d-e41ea3c89482",
   "metadata": {},
   "source": [
    "#### 7-how many persons belongs to each and every unique age"
   ]
  },
  {
   "cell_type": "code",
   "execution_count": 363,
   "id": "73ac181c-a143-433c-bb6e-1bffad58bfe6",
   "metadata": {},
   "outputs": [
    {
     "name": "stdout",
     "output_type": "stream",
     "text": [
      "persons: 28\n",
      "unique [ 1.  2.  3.  4.  5.  6.  7.  8.  9. 10. 11. 12. 13. 14. 15. 16. 17. 18.\n",
      " 19. 20. 21. 22. 23. 24. 25. 26. 27. 29.]\n",
      "counts: [   46    42   625  2787  5475 12450 18276 26818 32906 30803 23457 12717\n",
      " 10037  6352  4831  3191  2705  1953  1591  1206   721   296   352   110\n",
      "    51    46    99    57]\n"
     ]
    }
   ],
   "source": [
    "unique,counts=np.unique(age,return_counts=True)\n",
    "print(\"persons:\",np.count_nonzero(unique))\n",
    "print(\"unique\",unique)\n",
    "print(\"counts:\",counts)\n"
   ]
  },
  {
   "cell_type": "markdown",
   "id": "ce507661-6d49-4674-ab42-00c043b11e30",
   "metadata": {},
   "source": [
    "#### 8-What is the diff b/w shucked weight and viscera weight"
   ]
  },
  {
   "cell_type": "code",
   "execution_count": 468,
   "id": "d36d5b96-b1f6-4980-b2ff-59e9f9ecd5ec",
   "metadata": {},
   "outputs": [
    {
     "name": "stdout",
     "output_type": "stream",
     "text": [
      "diff bw shucked and viscera weight\n",
      "[5.9817445 3.855532  4.1106775 ... 2.9199985 5.329706  9.8372765]\n"
     ]
    }
   ],
   "source": [
    "print(\"diff bw shucked and viscera weight\")\n",
    "print(np.subtract(sw,vw))"
   ]
  },
  {
   "cell_type": "code",
   "execution_count": 344,
   "id": "a32291bf-9ad0-4b95-957f-20fc5da1e374",
   "metadata": {},
   "outputs": [
    {
     "data": {
      "text/plain": [
       "array([ 0.1162535 ,  0.18931875,  0.25883225, ..., 42.410852  ,\n",
       "       43.1762885 , 45.2741515 ])"
      ]
     },
     "execution_count": 344,
     "metadata": {},
     "output_type": "execute_result"
    }
   ],
   "source": [
    "np.setdiff1d(sw,vw)"
   ]
  },
  {
   "cell_type": "markdown",
   "id": "0ce660e4-9d3d-4279-964d-2fe6e98c7443",
   "metadata": {},
   "source": [
    "#### 9-what is the avg hight of the persons whose age is b/w 14 and 19"
   ]
  },
  {
   "cell_type": "code",
   "execution_count": 353,
   "id": "1f3e4213-2521-45a9-b775-42508834443b",
   "metadata": {},
   "outputs": [
    {
     "name": "stdout",
     "output_type": "stream",
     "text": [
      "aveg of hight of persons age b/w 14-19:\n",
      " 0.41489902051107985\n"
     ]
    }
   ],
   "source": [
    "h14_19=np.where((age>=14) & (age<=19))\n",
    "avgh=hight.take(h14_19)\n",
    "print(\"aveg of hight of persons age b/w 14-19:\\n\",np.average(avgh))"
   ]
  },
  {
   "cell_type": "markdown",
   "id": "fe8e2200-7301-4458-b7d7-a0939ca00d3c",
   "metadata": {},
   "source": [
    "#### 10-what is the avg weight if we include shucked weight , viscera weight,shell weight"
   ]
  },
  {
   "cell_type": "code",
   "execution_count": 150,
   "id": "54c8f592-0535-4501-bd1a-45704677181e",
   "metadata": {},
   "outputs": [
    {
     "name": "stdout",
     "output_type": "stream",
     "text": [
      "[31.22697425 21.885814   28.25027675 ... 10.886208   33.89182725\n",
      " 34.37376875]\n"
     ]
    }
   ],
   "source": [
    "weight=a[:,3]\n",
    "print(weight)"
   ]
  },
  {
   "cell_type": "code",
   "execution_count": 354,
   "id": "126b39b1-fe41-4b23-8a4b-d20b1763f55b",
   "metadata": {},
   "outputs": [
    {
     "name": "stdout",
     "output_type": "stream",
     "text": [
      "average weight: 38.10598751778014\n"
     ]
    }
   ],
   "source": [
    "tot_weight=np.sum([weight,sw,vw],axis=0)\n",
    "avg_tot=np.average(tot_weight)\n",
    "print(\"average weight:\",avg_tot)"
   ]
  },
  {
   "cell_type": "code",
   "execution_count": null,
   "id": "affa71ea-8326-482b-baca-d556ac80c56c",
   "metadata": {},
   "outputs": [],
   "source": []
  },
  {
   "cell_type": "code",
   "execution_count": null,
   "id": "5a87b456-1958-444f-981a-d45b10a23d9b",
   "metadata": {},
   "outputs": [],
   "source": []
  },
  {
   "cell_type": "code",
   "execution_count": null,
   "id": "99265603",
   "metadata": {},
   "outputs": [],
   "source": []
  }
 ],
 "metadata": {
  "kernelspec": {
   "display_name": "Python 3 (ipykernel)",
   "language": "python",
   "name": "python3"
  },
  "language_info": {
   "codemirror_mode": {
    "name": "ipython",
    "version": 3
   },
   "file_extension": ".py",
   "mimetype": "text/x-python",
   "name": "python",
   "nbconvert_exporter": "python",
   "pygments_lexer": "ipython3",
   "version": "3.11.4"
  }
 },
 "nbformat": 4,
 "nbformat_minor": 5
}
